{
 "cells": [
  {
   "cell_type": "code",
   "execution_count": 1,
   "metadata": {},
   "outputs": [],
   "source": [
    "#Código utilizado para generar 6 distintas energías a partir de valores aleatorios de los momentos y los ángulos. \n",
    "# Elaborado por Gustavo Ardila y Cristian Tibambre \n",
    "\n",
    "import numpy as np"
   ]
  },
  {
   "cell_type": "code",
   "execution_count": 2,
   "metadata": {},
   "outputs": [],
   "source": [
    "# Función que calcula el Hamiltoniano dado un k\n",
    "def Hamiltoniano (k):\n",
    "    g=9.8\n",
    "    m=5\n",
    "    #Lista de energías\n",
    "    E=np.zeros(6)\n",
    "    # Se genera una energía para cada posición del arreglo\n",
    "    for i in range(6):\n",
    "        #Se generan momentos aleatorios\n",
    "        pt1=np.random.uniform(low=-5, high=5)\n",
    "        pt2=np.random.uniform(low=-5, high=5)\n",
    "        #Ángulos aleatorios\n",
    "        theta1=np.random.uniform(low=0, high=2*np.pi)\n",
    "        theta2=np.random.uniform(low=0, high=2*np.pi)\n",
    "        #Hamiltoniano\n",
    "        H=((pt1**2)/(2*m))+((pt2**2)/(2*m))+0.5*k*(np.sin(theta1)-np.sin(theta2))**2- m*g*(np.cos(theta1)+np.cos(theta2))\n",
    "        #Agrega el Hamiltoniano al arreglo y lo aproxima al entero más cercano\n",
    "        E[i]= round(abs(H))\n",
    "    return E"
   ]
  },
  {
   "cell_type": "code",
   "execution_count": 26,
   "metadata": {},
   "outputs": [
    {
     "data": {
      "text/plain": [
       "array([42., 70.,  1., 17., 18., 21.])"
      ]
     },
     "execution_count": 26,
     "metadata": {},
     "output_type": "execute_result"
    }
   ],
   "source": [
    "Hamiltoniano(0.5)"
   ]
  },
  {
   "cell_type": "code",
   "execution_count": 6,
   "metadata": {},
   "outputs": [
    {
     "data": {
      "text/plain": [
       "array([ 7., 35., 74., 89., 61.,  2.])"
      ]
     },
     "execution_count": 6,
     "metadata": {},
     "output_type": "execute_result"
    }
   ],
   "source": [
    "Hamiltoniano(0)"
   ]
  },
  {
   "cell_type": "code",
   "execution_count": 9,
   "metadata": {},
   "outputs": [
    {
     "data": {
      "text/plain": [
       "array([26., 22.,  8., 82., 24., 44.])"
      ]
     },
     "execution_count": 9,
     "metadata": {},
     "output_type": "execute_result"
    }
   ],
   "source": [
    "Hamiltoniano(5)"
   ]
  },
  {
   "cell_type": "code",
   "execution_count": 4,
   "metadata": {},
   "outputs": [
    {
     "data": {
      "text/plain": [
       "array([14., 31., 33.,  3., 47., 74.])"
      ]
     },
     "execution_count": 4,
     "metadata": {},
     "output_type": "execute_result"
    }
   ],
   "source": [
    "Hamiltoniano(20)"
   ]
  },
  {
   "cell_type": "code",
   "execution_count": 6,
   "metadata": {},
   "outputs": [
    {
     "data": {
      "text/plain": [
       "array([10800.,  8179.,    23.,   133.,  3651.,    75.])"
      ]
     },
     "execution_count": 6,
     "metadata": {},
     "output_type": "execute_result"
    }
   ],
   "source": [
    "Hamiltoniano(10000)"
   ]
  },
  {
   "cell_type": "code",
   "execution_count": 7,
   "metadata": {},
   "outputs": [
    {
     "data": {
      "text/plain": [
       "array([  99018., 1973083.,  655986., 1085112., 1093636., 1002681.])"
      ]
     },
     "execution_count": 7,
     "metadata": {},
     "output_type": "execute_result"
    }
   ],
   "source": [
    "Hamiltoniano(1000000)"
   ]
  },
  {
   "cell_type": "code",
   "execution_count": 11,
   "metadata": {},
   "outputs": [
    {
     "data": {
      "text/plain": [
       "array([110.,  44., 193.,   5., 113.,  41.])"
      ]
     },
     "execution_count": 11,
     "metadata": {},
     "output_type": "execute_result"
    }
   ],
   "source": [
    "Hamiltoniano(100)"
   ]
  },
  {
   "cell_type": "code",
   "execution_count": null,
   "metadata": {},
   "outputs": [],
   "source": []
  },
  {
   "cell_type": "code",
   "execution_count": null,
   "metadata": {},
   "outputs": [],
   "source": []
  }
 ],
 "metadata": {
  "kernelspec": {
   "display_name": "Python 3",
   "language": "python",
   "name": "python3"
  },
  "language_info": {
   "codemirror_mode": {
    "name": "ipython",
    "version": 3
   },
   "file_extension": ".py",
   "mimetype": "text/x-python",
   "name": "python",
   "nbconvert_exporter": "python",
   "pygments_lexer": "ipython3",
   "version": "3.7.6"
  }
 },
 "nbformat": 4,
 "nbformat_minor": 4
}
