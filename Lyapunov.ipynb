{
  "metadata": {
    "language_info": {
      "codemirror_mode": {
        "name": "python",
        "version": 3
      },
      "file_extension": ".py",
      "mimetype": "text/x-python",
      "name": "python",
      "nbconvert_exporter": "python",
      "pygments_lexer": "ipython3",
      "version": "3.8"
    },
    "kernelspec": {
      "name": "python",
      "display_name": "Pyolite",
      "language": "python"
    }
  },
  "nbformat_minor": 4,
  "nbformat": 4,
  "cells": [
    {
      "cell_type": "code",
      "source": "import numpy as np\nfrom scipy.integrate import solve_ivp\n\n#ODE sistema de ecuaciones \ndef func(t, v, k, r, b):\n    x, y, z, w = v #define todas las variables\n    return [ -K * (np.sin(y) - np.sin(w))*np.cos(y) - r*b*np.sin(y), x,  K * (np.sin(y) - np.sin(w))*np.cos(y) - r*b*np.sin(w), z]\ndef JM(v, sigma, r, b): #define la matriz jacobiana\n    x, y, z, w = [k for k in v]\n    return np.array([[0, -K*((np.cos(y)**2-(np.sin(y))**2) + np.sin(w)*np.sin(y) - r*b*np.cos(y)), 0, K*np.cos(w)*np.cos(y)], [1, 0, 0, 0], [0, K*np.cos(y)*np.cos(w), 0, -K*(np.sin(y)*np.sin(w) + ((np.cos(w))**2-(np.sin(w))**2))-r*b*np.cos(w)], [0, 0, 0, 1]])\n#parametros iniciales\nK = 1000 #constante del resorte\nr = 5 #masas \nb = 1 #longitud\nU = np.eye(4) #unidades de la funcion nueva\nv0 = [1.0564324,0.9854321,1,1] #condiciones iniciales.\nlyap = [] #array vacio para guardar exponentes\n\n\niters=10**3\ndt=0.1\ntf=iters * dt\n#soluciona las ecuaciones diferenciales\nsol = solve_ivp(func, [0, tf], v0, t_eval=np.linspace(0, tf, iters), args=(K, r, b))\nv_n = sol.y.T #transpone la solucion\n\n#ciclo para iterar desde 0.1 hasta donde se desee \nfor k in range(0, iters):\n    v0 = v_n[k] #nuevas condiciones iniciales\n    U_n = np.matmul(np.eye(4) + JM(v0, k, r, b) * dt, U)\n        #hace uso del metodo Gram-Schmidt Orthogonalisation (GSO)\n    Q, R = np.linalg.qr(U_n)\n    lyap.append(np.log(abs(R.diagonal())))\n    \n#retorna 4 exponentes de lyapunov\n[sum([lyap[k][j] for k in range(iters)]) / (dt * iters) for j in range(4)]",
      "metadata": {
        "trusted": true
      },
      "execution_count": 51,
      "outputs": [
        {
          "execution_count": 51,
          "output_type": "execute_result",
          "data": {
            "text/plain": "[0.04975165426584027,\n 40.101856816998165,\n -6.791618431800019,\n 0.9531017980432556]"
          },
          "metadata": {}
        }
      ]
    },
    {
      "cell_type": "markdown",
      "source": "###### ",
      "metadata": {}
    }
  ]
}